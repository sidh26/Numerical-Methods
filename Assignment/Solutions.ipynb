{
 "cells": [
  {
   "cell_type": "code",
   "execution_count": 1,
   "metadata": {
    "collapsed": true
   },
   "outputs": [],
   "source": [
    "from math import factorial, log, e, sqrt"
   ]
  },
  {
   "cell_type": "code",
   "execution_count": 2,
   "outputs": [],
   "source": [
    "eps = float(input(\"Enter epsilon value: \"))  # value of error is taken as 0.00001 for this assignment"
   ],
   "metadata": {
    "collapsed": false,
    "pycharm": {
     "name": "#%%\n"
    }
   }
  },
  {
   "cell_type": "code",
   "execution_count": 3,
   "outputs": [
    {
     "name": "stdout",
     "output_type": "stream",
     "text": [
      "actual value:  0.018315638888734186\n",
      "from taylor's:  0.018315259717021463\n"
     ]
    }
   ],
   "source": [
    "# Q1\n",
    "# Find the Taylor series expansion of  𝑒^(−𝑥)  and hence find the value of  𝑒^(−4),  correct up to 4 decimal places\n",
    "value = float(input(\"Enter the value of x: \"))  # value of x\n",
    "\n",
    "\n",
    "def expfunction(n):  # n is degree ie. number of terms\n",
    "    sum = 0\n",
    "    for i in range(0, n + 1):\n",
    "        sum = sum + (-1 * value) ** i / factorial(i)\n",
    "    return sum\n",
    "\n",
    "\n",
    "n = 1\n",
    "l = expfunction(n)\n",
    "n += 1\n",
    "u = expfunction(n)\n",
    "\n",
    "while abs(l - u) > eps:\n",
    "    n += 1\n",
    "    l = u\n",
    "    u = expfunction(n)\n",
    "\n",
    "print('actual value: ', e ** (-value))\n",
    "print('from taylor\\'s: ', u)"
   ],
   "metadata": {
    "collapsed": false,
    "pycharm": {
     "name": "#%%\n"
    }
   }
  },
  {
   "cell_type": "code",
   "execution_count": 4,
   "outputs": [
    {
     "name": "stdout",
     "output_type": "stream",
     "text": [
      "actual value:  0.08617769624105241\n",
      "from taylor's:  0.08617777848000008\n"
     ]
    }
   ],
   "source": [
    "# Q2\n",
    "# Find the value of  ln(1.09)  numerically. Use Taylor series to find it.\n",
    "\n",
    "value = float(input(\"Enter the value of x: \"))  # value of x\n",
    "\n",
    "\n",
    "# (log(1+x))\n",
    "def logfunction(n):  # n is degree ie. number of terms\n",
    "    sum = 0\n",
    "    for i in range(0, n + 1):\n",
    "        sum = sum + (-1) ** i * (value - 1) ** (i + 1) / (i + 1)\n",
    "    return sum\n",
    "\n",
    "\n",
    "n = 1\n",
    "l = logfunction(n)\n",
    "n += 1\n",
    "u = logfunction(n)\n",
    "\n",
    "while abs(l - u) > eps:\n",
    "    n += 1\n",
    "    l = u\n",
    "    u = logfunction(n)\n",
    "\n",
    "print('actual value: ', log(value))\n",
    "print('from taylor\\'s: ', u)"
   ],
   "metadata": {
    "collapsed": false,
    "pycharm": {
     "name": "#%%\n"
    }
   }
  },
  {
   "cell_type": "code",
   "execution_count": 5,
   "outputs": [
    {
     "name": "stdout",
     "output_type": "stream",
     "text": [
      "Actual:  1.0313254146781239\n",
      "Forward:  1.036927047739208\n",
      "Backward:  1.0257260101781895\n",
      "Central:  1.0318223898435284\n"
     ]
    }
   ],
   "source": [
    "# Q3\n",
    "# 𝑓(𝑥) = 2/(1−𝑥^3). Find the value of 𝑓′ (0.39) numerically using forward, backward and centred approximation methods of first order.\n",
    "# Compare the three values with the original one.\n",
    "value = float(input(\"Enter the value of x: \"))  # value of x\n",
    "\n",
    "\n",
    "def f(x):\n",
    "    return 2 / (1 - x ** 3)\n",
    "\n",
    "\n",
    "def F(n):\n",
    "    return (f(value + 1 / n) - f(value)) * n\n",
    "\n",
    "\n",
    "def B(n):\n",
    "    return (f(value) - f(value - 1 / n)) * n\n",
    "\n",
    "\n",
    "def C(n):\n",
    "    return (f(value + 1 / n) - f(value - 1 / n)) * n / 2\n",
    "\n",
    "\n",
    "def actual(value):\n",
    "    return 6 * value ** 2 / (1 - value ** 3) ** 2\n",
    "\n",
    "\n",
    "print('Actual: ', actual(value))\n",
    "# Forward\n",
    "n = 1\n",
    "u1 = F(n)\n",
    "n += 1\n",
    "u2 = F(n)\n",
    "while abs(u1 - u2) > eps:\n",
    "    n += 1\n",
    "    u1 = u2\n",
    "    u2 = F(n)\n",
    "print('Forward: ', u2)\n",
    "\n",
    "# Backward\n",
    "n = 1\n",
    "u1 = B(n)\n",
    "n += 1\n",
    "u2 = B(n)\n",
    "while abs(u1 - u2) > eps:\n",
    "    n += 1\n",
    "    u1 = u2\n",
    "    u2 = B(n)\n",
    "print('Backward: ', u2)\n",
    "\n",
    "# Central\n",
    "n = 1\n",
    "u1 = C(n)\n",
    "n += 1\n",
    "u2 = C(n)\n",
    "while abs(u1 - u2) > eps:\n",
    "    n += 1\n",
    "    u1 = u2\n",
    "    u2 = C(n)\n",
    "print('Central: ', u2)"
   ],
   "metadata": {
    "collapsed": false,
    "pycharm": {
     "name": "#%%\n"
    }
   }
  },
  {
   "cell_type": "code",
   "execution_count": 6,
   "outputs": [
    {
     "name": "stdout",
     "output_type": "stream",
     "text": [
      "Actual:  1.1851851851851851\n",
      "Forward:  1.1803234451282154\n",
      "Backward:  1.1900480334921308\n",
      "Central:  1.1854138529806306\n"
     ]
    }
   ],
   "source": [
    "# Q4\n",
    "# 𝑓(𝑥) = (1−𝑥) /(1+𝑥) Find the value of 𝑓′′(0.5) numerically using forward, backward and centred approximation of first order.\n",
    "# Compare the three values with the original one.\n",
    "value = float(input(\"Enter the value of x: \"))  # value of x\n",
    "\n",
    "\n",
    "def f(x):\n",
    "    return (1 - x) / (1 + x)\n",
    "\n",
    "\n",
    "def F(n):\n",
    "    return (f(value + 2 / n) - 2 * f(value + 1 / n) + f(value)) * n ** 2\n",
    "\n",
    "\n",
    "def B(n):\n",
    "    return (f(value) - 2 * f(value - 1 / n) + f(value - 2 / n)) * n ** 2\n",
    "\n",
    "\n",
    "def C(n):\n",
    "    return (f(value + 1 / n) - 2 * f(value) + f(value - 1 / n)) * n ** 2\n",
    "\n",
    "\n",
    "def actual(value):\n",
    "    return 4 / (1 + value) ** 3\n",
    "\n",
    "\n",
    "print('Actual: ', actual(value))\n",
    "# Forward\n",
    "n = 1\n",
    "u1 = F(n)\n",
    "n += 1\n",
    "u2 = F(n)\n",
    "while abs(u1 - u2) > eps:\n",
    "    n += 1\n",
    "    u1 = u2\n",
    "    u2 = F(n)\n",
    "print('Forward: ', u2)\n",
    "\n",
    "# Backward\n",
    "n = 1\n",
    "u1 = B(n)\n",
    "n += 1\n",
    "u2 = B(n)\n",
    "while abs(u1 - u2) > eps:\n",
    "    n += 1\n",
    "    u1 = u2\n",
    "    u2 = B(n)\n",
    "print('Backward: ', u2)\n",
    "\n",
    "# Central\n",
    "n = 1\n",
    "u1 = C(n)\n",
    "n += 1\n",
    "u2 = C(n)\n",
    "while abs(u1 - u2) > eps:\n",
    "    n += 1\n",
    "    u1 = u2\n",
    "    u2 = C(n)\n",
    "print('Central: ', u2)"
   ],
   "metadata": {
    "collapsed": false,
    "pycharm": {
     "name": "#%%\n"
    }
   }
  },
  {
   "cell_type": "code",
   "execution_count": 7,
   "outputs": [
    {
     "name": "stdout",
     "output_type": "stream",
     "text": [
      "actual value:  1.5394804318340654\n",
      "from fixed point:  1.5394804318340651\n"
     ]
    }
   ],
   "source": [
    "# Q5\n",
    "# Use the fixed point iteration 𝑥 = (𝑥+𝑎⁄𝑥)/2, to find square root of 2.37.\n",
    "value = float(input(\"Enter the value of x: \"))  # value of x\n",
    "\n",
    "\n",
    "def f(x):\n",
    "    return (x + value / x) / 2\n",
    "\n",
    "\n",
    "l = value  # initial value of x\n",
    "u = f(l)\n",
    "while abs(l - u) > eps:\n",
    "    l = u\n",
    "    u = f(l)\n",
    "print('actual value: ', sqrt(value))\n",
    "print('from fixed point: ', u)"
   ],
   "metadata": {
    "collapsed": false,
    "pycharm": {
     "name": "#%%\n"
    }
   }
  },
  {
   "cell_type": "code",
   "execution_count": 10,
   "outputs": [
    {
     "name": "stdout",
     "output_type": "stream",
     "text": [
      "actual roots are: -0.5, 1.5\n",
      "root by bisection method: 1.5\n"
     ]
    }
   ],
   "source": [
    "# Q6\n",
    "# P(𝑥) = 𝑥^2 − 𝑥 − 3⁄4. Find the real roots of the polynomial 𝑃(𝑥). Use Bisection Method.\n",
    "def f(x):\n",
    "    return x ** 2 - x - 3 / 4\n",
    "\n",
    "\n",
    "def root():\n",
    "    l = 1\n",
    "    u = 2\n",
    "    while abs(f(l) - f(u)) > eps:\n",
    "        m = (l + u) / 2\n",
    "        if f(l) * f(m) < 0:\n",
    "            u = m\n",
    "        elif f(m) * f(u) < 0:\n",
    "            l = m\n",
    "        else:\n",
    "            return m\n",
    "        return u\n",
    "\n",
    "print('actual roots are: -0.5, 1.5')\n",
    "print('root by bisection method:', root())"
   ],
   "metadata": {
    "collapsed": false,
    "pycharm": {
     "name": "#%%\n"
    }
   }
  },
  {
   "cell_type": "code",
   "execution_count": 11,
   "outputs": [
    {
     "name": "stdout",
     "output_type": "stream",
     "text": [
      "actual roots are: -1, 5, 5\n",
      "root by bisection method: -1.0\n"
     ]
    }
   ],
   "source": [
    "# Q7\n",
    "# 𝑃(𝑥) = 𝑥^3 − 9𝑥^2 + 15𝑥 + 25. Find real roots of the polynomial. Use appropriate method(s) for it.\n",
    "def f(x):\n",
    "    return x ** 3 - 9 * x ** 2 + 15 * x + 25\n",
    "\n",
    "\n",
    "def root():\n",
    "    l = -1.5\n",
    "    u = -0.5\n",
    "    while abs(f(l) - f(u)) > eps:\n",
    "        m = (l + u) / 2\n",
    "        if f(l) * f(m) < 0:\n",
    "            u = m\n",
    "        elif f(m) * f(u) < 0:\n",
    "            l = m\n",
    "        else:\n",
    "            return m\n",
    "    return u\n",
    "\n",
    "print('actual roots are: -1, 5, 5')\n",
    "print('root by bisection method:', root())\n",
    "\n"
   ],
   "metadata": {
    "collapsed": false,
    "pycharm": {
     "name": "#%%\n"
    }
   }
  }
 ],
 "metadata": {
  "kernelspec": {
   "display_name": "Python 3",
   "language": "python",
   "name": "python3"
  },
  "language_info": {
   "codemirror_mode": {
    "name": "ipython",
    "version": 2
   },
   "file_extension": ".py",
   "mimetype": "text/x-python",
   "name": "python",
   "nbconvert_exporter": "python",
   "pygments_lexer": "ipython2",
   "version": "2.7.6"
  }
 },
 "nbformat": 4,
 "nbformat_minor": 0
}